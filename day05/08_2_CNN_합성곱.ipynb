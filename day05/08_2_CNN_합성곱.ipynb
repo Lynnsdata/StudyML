{
 "cells": [
  {
   "cell_type": "markdown",
   "metadata": {},
   "source": [
    "### 사전준비"
   ]
  },
  {
   "cell_type": "code",
   "execution_count": 1,
   "metadata": {},
   "outputs": [],
   "source": [
    "# 기본적인 패키지부터 추가\n",
    "import numpy as np\n",
    "import pandas as pd\n",
    "import scipy as sp\n",
    "\n",
    "import matplotlib as mpl\n",
    "import matplotlib.pyplot as plt\n",
    "import seaborn as sns"
   ]
  },
  {
   "cell_type": "code",
   "execution_count": 2,
   "metadata": {},
   "outputs": [],
   "source": [
    "# 한글/차트 마이너스 없애기\n",
    "from matplotlib import rc\n",
    "import matplotlib.font_manager as fm\n",
    "\n",
    "plt.rc('font', family='Malgun Gothic')\n",
    "sns.set(font='Malgun Gothic', rc={'axes.unicode_minus':False}, style='darkgrid')"
   ]
  },
  {
   "cell_type": "markdown",
   "metadata": {},
   "source": [
    "### 합성곱 신경망 이미지 분류"
   ]
  },
  {
   "cell_type": "code",
   "execution_count": 3,
   "metadata": {},
   "outputs": [],
   "source": [
    "from tensorflow import keras\n",
    "from tensorflow.keras.datasets.fashion_mnist import load_data\n",
    "from sklearn.model_selection import train_test_split"
   ]
  },
  {
   "cell_type": "code",
   "execution_count": 4,
   "metadata": {},
   "outputs": [],
   "source": [
    "(train_input, train_target), (test_input, test_target) = load_data()"
   ]
  },
  {
   "cell_type": "code",
   "execution_count": 5,
   "metadata": {},
   "outputs": [
    {
     "data": {
      "text/plain": [
       "(60000, 28, 28, 1)"
      ]
     },
     "execution_count": 5,
     "metadata": {},
     "output_type": "execute_result"
    }
   ],
   "source": [
    "train_scaled = train_input.reshape(-1, 28, 28, 1) / 255.0\n",
    "train_scaled.shape\n",
    "# 결과에 1이 들어간 이유 : 이미지 값을 넣어야하기 때문"
   ]
  },
  {
   "cell_type": "code",
   "execution_count": 6,
   "metadata": {},
   "outputs": [],
   "source": [
    "train_scaled, val_scaled, train_target, val_target = train_test_split(train_scaled, train_target, test_size=0.2, random_state=42)"
   ]
  },
  {
   "cell_type": "code",
   "execution_count": 7,
   "metadata": {},
   "outputs": [
    {
     "name": "stdout",
     "output_type": "stream",
     "text": [
      "(48000, 28, 28, 1) (48000,)\n",
      "(12000, 28, 28, 1) (12000,)\n"
     ]
    }
   ],
   "source": [
    "print(train_scaled.shape, train_target.shape)\n",
    "print(val_scaled.shape, val_target.shape)"
   ]
  },
  {
   "cell_type": "markdown",
   "metadata": {},
   "source": [
    "#### 합성곱 신경망 생성"
   ]
  },
  {
   "cell_type": "code",
   "execution_count": 8,
   "metadata": {},
   "outputs": [],
   "source": [
    "model = keras.Sequential()\n",
    "\n",
    "# 필터32개, input_shape=(28,28,1): 우리가 만든값 그대로 넣겠다는 뜻\n",
    "model.add(keras.layers.Conv2D(32, kernel_size=3, activation='relu', padding='same', input_shape=(28,28,1)))\n",
    "model.add(keras.layers.MaxPooling2D(2))  # 2개씩 줄이면 14x14 특성맵 32개 만들어짐\n",
    "model.add(keras.layers.Conv2D(64, kernel_size=3, activation='relu', padding='same'))  # 14x14가 64개 만들어짐\n",
    "model.add(keras.layers.MaxPooling2D(2))  # 7x7 특성맵 64개"
   ]
  },
  {
   "cell_type": "code",
   "execution_count": 9,
   "metadata": {},
   "outputs": [],
   "source": [
    "model.add(keras.layers.Flatten())  # 다시 푼다/ 7x7x64 +64\n",
    "model.add(keras.layers.Dense(100, activation='relu'))\n",
    "model.add(keras.layers.Dropout(0.4))  # 60개 노드만 통과\n",
    "model.add(keras.layers.Dense(10, activation='softmax'))"
   ]
  },
  {
   "cell_type": "code",
   "execution_count": 10,
   "metadata": {},
   "outputs": [
    {
     "name": "stdout",
     "output_type": "stream",
     "text": [
      "Model: \"sequential\"\n",
      "_________________________________________________________________\n",
      " Layer (type)                Output Shape              Param #   \n",
      "=================================================================\n",
      " conv2d (Conv2D)             (None, 28, 28, 32)        320       \n",
      "                                                                 \n",
      " max_pooling2d (MaxPooling2D  (None, 14, 14, 32)       0         \n",
      " )                                                               \n",
      "                                                                 \n",
      " conv2d_1 (Conv2D)           (None, 14, 14, 64)        18496     \n",
      "                                                                 \n",
      " max_pooling2d_1 (MaxPooling  (None, 7, 7, 64)         0         \n",
      " 2D)                                                             \n",
      "                                                                 \n",
      " flatten (Flatten)           (None, 3136)              0         \n",
      "                                                                 \n",
      " dense (Dense)               (None, 100)               313700    \n",
      "                                                                 \n",
      " dropout (Dropout)           (None, 100)               0         \n",
      "                                                                 \n",
      " dense_1 (Dense)             (None, 10)                1010      \n",
      "                                                                 \n",
      "=================================================================\n",
      "Total params: 333,526\n",
      "Trainable params: 333,526\n",
      "Non-trainable params: 0\n",
      "_________________________________________________________________\n"
     ]
    }
   ],
   "source": [
    "model.summary()"
   ]
  },
  {
   "cell_type": "code",
   "execution_count": 11,
   "metadata": {},
   "outputs": [
    {
     "name": "stdout",
     "output_type": "stream",
     "text": [
      "You must install pydot (`pip install pydot`) and install graphviz (see instructions at https://graphviz.gitlab.io/download/) for plot_model/model_to_dot to work.\n"
     ]
    }
   ],
   "source": [
    "keras.utils.plot_model(model)\n",
    "# 층의 구성을 그림으로 표현해주는건데 나중에 패키지 설치하고 한번 해봐~\n",
    "# 잘 나오진않음"
   ]
  },
  {
   "cell_type": "markdown",
   "metadata": {},
   "source": [
    "#### 모델 컴파일 훈련"
   ]
  },
  {
   "cell_type": "code",
   "execution_count": 12,
   "metadata": {},
   "outputs": [
    {
     "name": "stdout",
     "output_type": "stream",
     "text": [
      "Epoch 1/20\n",
      "1500/1500 [==============================] - ETA: 0s - loss: 0.5369 - accuracy: 0.8094\n",
      "Epoch 1: val_loss improved from inf to 0.34082, saving model to ./data\\best_cnn_model.h5\n",
      "1500/1500 [==============================] - 40s 26ms/step - loss: 0.5369 - accuracy: 0.8094 - val_loss: 0.3408 - val_accuracy: 0.8783\n",
      "Epoch 2/20\n",
      "1498/1500 [============================>.] - ETA: 0s - loss: 0.3491 - accuracy: 0.8730\n",
      "Epoch 2: val_loss improved from 0.34082 to 0.27730, saving model to ./data\\best_cnn_model.h5\n",
      "1500/1500 [==============================] - 42s 28ms/step - loss: 0.3492 - accuracy: 0.8729 - val_loss: 0.2773 - val_accuracy: 0.8969\n",
      "Epoch 3/20\n",
      "1498/1500 [============================>.] - ETA: 0s - loss: 0.2989 - accuracy: 0.8930\n",
      "Epoch 3: val_loss improved from 0.27730 to 0.25771, saving model to ./data\\best_cnn_model.h5\n",
      "1500/1500 [==============================] - 40s 27ms/step - loss: 0.2989 - accuracy: 0.8930 - val_loss: 0.2577 - val_accuracy: 0.9032\n",
      "Epoch 4/20\n",
      "1499/1500 [============================>.] - ETA: 0s - loss: 0.2659 - accuracy: 0.9034\n",
      "Epoch 4: val_loss improved from 0.25771 to 0.24358, saving model to ./data\\best_cnn_model.h5\n",
      "1500/1500 [==============================] - 41s 27ms/step - loss: 0.2658 - accuracy: 0.9034 - val_loss: 0.2436 - val_accuracy: 0.9093\n",
      "Epoch 5/20\n",
      "1500/1500 [==============================] - ETA: 0s - loss: 0.2395 - accuracy: 0.9137\n",
      "Epoch 5: val_loss improved from 0.24358 to 0.24278, saving model to ./data\\best_cnn_model.h5\n",
      "1500/1500 [==============================] - 41s 28ms/step - loss: 0.2395 - accuracy: 0.9137 - val_loss: 0.2428 - val_accuracy: 0.9120\n",
      "Epoch 6/20\n",
      "1500/1500 [==============================] - ETA: 0s - loss: 0.2193 - accuracy: 0.9195\n",
      "Epoch 6: val_loss improved from 0.24278 to 0.23878, saving model to ./data\\best_cnn_model.h5\n",
      "1500/1500 [==============================] - 40s 27ms/step - loss: 0.2193 - accuracy: 0.9195 - val_loss: 0.2388 - val_accuracy: 0.9128\n",
      "Epoch 7/20\n",
      "1500/1500 [==============================] - ETA: 0s - loss: 0.2055 - accuracy: 0.9257\n",
      "Epoch 7: val_loss did not improve from 0.23878\n",
      "1500/1500 [==============================] - 38s 25ms/step - loss: 0.2055 - accuracy: 0.9257 - val_loss: 0.2562 - val_accuracy: 0.9054\n",
      "Epoch 8/20\n",
      "1500/1500 [==============================] - ETA: 0s - loss: 0.1852 - accuracy: 0.9318\n",
      "Epoch 8: val_loss did not improve from 0.23878\n",
      "Restoring model weights from the end of the best epoch: 6.\n",
      "1500/1500 [==============================] - 39s 26ms/step - loss: 0.1852 - accuracy: 0.9318 - val_loss: 0.2401 - val_accuracy: 0.9153\n",
      "Epoch 8: early stopping\n"
     ]
    }
   ],
   "source": [
    "model.compile(optimizer='adam', loss='sparse_categorical_crossentropy', metrics='accuracy')\n",
    "# save_best_only=True 해줘야 가장 좋은 모델 저장됨\n",
    "# 어떤게 저장됐는지 보고싶으면 verbose=1 로 확인\n",
    "checkpoint_cb = keras.callbacks.ModelCheckpoint('./data/best_cnn_model.h5', save_best_only=True, verbose=1)\n",
    "early_stopping_cb = keras.callbacks.EarlyStopping(patience=2, restore_best_weights=True, verbose=1)\n",
    "history = model.fit(train_scaled, train_target, epochs=20, verbose=1, validation_data=(val_scaled, val_target), callbacks=[checkpoint_cb, early_stopping_cb])"
   ]
  },
  {
   "cell_type": "code",
   "execution_count": 13,
   "metadata": {},
   "outputs": [
    {
     "data": {
      "image/png": "[encoded data removed]",
      "text/plain": [
       "<Figure size 720x360 with 1 Axes>"
      ]
     },
     "metadata": {
      "needs_background": "light"
     },
     "output_type": "display_data"
    }
   ],
   "source": [
    "plt.figure(figsize=(10,5))\n",
    "plt.plot(history.history['loss'])\n",
    "plt.plot(history.history['val_loss'])\n",
    "plt.show()"
   ]
  },
  {
   "cell_type": "code",
   "execution_count": 14,
   "metadata": {},
   "outputs": [
    {
     "data": {
      "text/plain": [
       "7"
      ]
     },
     "execution_count": 14,
     "metadata": {},
     "output_type": "execute_result"
    }
   ],
   "source": [
    "early_stopping_cb.stopped_epoch"
   ]
  },
  {
   "cell_type": "code",
   "execution_count": 15,
   "metadata": {},
   "outputs": [
    {
     "name": "stdout",
     "output_type": "stream",
     "text": [
      "375/375 [==============================] - 3s 8ms/step - loss: 0.2388 - accuracy: 0.9128\n"
     ]
    },
    {
     "data": {
      "text/plain": [
       "[0.23877625167369843, 0.9128333330154419]"
      ]
     },
     "execution_count": 15,
     "metadata": {},
     "output_type": "execute_result"
    }
   ],
   "source": [
    "model.evaluate(val_scaled, val_target)\n",
    "# 정확도 꽤 높게 나왔음"
   ]
  },
  {
   "cell_type": "code",
   "execution_count": 16,
   "metadata": {},
   "outputs": [
    {
     "data": {
      "image/png": "[encoded data removed]",
      "text/plain": [
       "<Figure size 432x288 with 1 Axes>"
      ]
     },
     "metadata": {
      "needs_background": "light"
     },
     "output_type": "display_data"
    }
   ],
   "source": [
    "plt.imshow(X=val_scaled[0].reshape(28,28), cmap='gray_r')  # 이미지를 보여준다\n",
    "plt.show()"
   ]
  },
  {
   "cell_type": "code",
   "execution_count": 17,
   "metadata": {},
   "outputs": [
    {
     "name": "stdout",
     "output_type": "stream",
     "text": [
      "1/1 [==============================] - 0s 121ms/step\n"
     ]
    },
    {
     "data": {
      "text/plain": [
       "array([[2.07396881e-14, 1.74111325e-20, 3.46169792e-17, 1.07939145e-14,\n",
       "        3.19279081e-13, 5.59677969e-14, 2.34158314e-13, 4.05584024e-15,\n",
       "        1.00000000e+00, 8.51581726e-16]], dtype=float32)"
      ]
     },
     "execution_count": 17,
     "metadata": {},
     "output_type": "execute_result"
    }
   ],
   "source": [
    "# 예측\n",
    "result = model.predict(val_scaled[0:1])\n",
    "result"
   ]
  },
  {
   "cell_type": "code",
   "execution_count": 18,
   "metadata": {},
   "outputs": [
    {
     "name": "stdout",
     "output_type": "stream",
     "text": [
      "1/1 [==============================] - 0s 22ms/step\n"
     ]
    },
    {
     "data": {
      "text/plain": [
       "array([8], dtype=int64)"
      ]
     },
     "execution_count": 18,
     "metadata": {},
     "output_type": "execute_result"
    }
   ],
   "source": [
    "val_labels = np.argmax(model.predict(val_scaled[0:1]), axis=-1)\n",
    "val_labels\n",
    "# 8은 가방이니까 잘 예측했다"
   ]
  },
  {
   "cell_type": "code",
   "execution_count": 19,
   "metadata": {},
   "outputs": [],
   "source": [
    "classes = ['티셔츠', '바지', '스웨터', '드레스', '코트', '샌달', '셔츠', '스니커즈', '가방', '앵클부츠']"
   ]
  },
  {
   "cell_type": "code",
   "execution_count": 20,
   "metadata": {},
   "outputs": [
    {
     "name": "stdout",
     "output_type": "stream",
     "text": [
      "가방\n"
     ]
    }
   ],
   "source": [
    "print(classes[np.argmax(result)])"
   ]
  }
 ],
 "metadata": {
  "kernelspec": {
   "display_name": "Python 3.10.5 64-bit",
   "language": "python",
   "name": "python3"
  },
  "language_info": {
   "codemirror_mode": {
    "name": "ipython",
    "version": 3
   },
   "file_extension": ".py",
   "mimetype": "text/x-python",
   "name": "python",
   "nbconvert_exporter": "python",
   "pygments_lexer": "ipython3",
   "version": "3.10.5"
  },
  "orig_nbformat": 4,
  "vscode": {
   "interpreter": {
    "hash": "beedbe2faf2f7048d727558d0bc3221e7eba2a0b921cac4d4771b2feb8f74b30"
   }
  }
 },
 "nbformat": 4,
 "nbformat_minor": 2
}
